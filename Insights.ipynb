{
 "cells": [
  {
   "cell_type": "markdown",
   "metadata": {},
   "source": [
    "# Insights"
   ]
  },
  {
   "cell_type": "markdown",
   "metadata": {},
   "source": [
    "## ## 1.\n",
    "\n",
    "###### Sales Department : \n",
    "###### Out of 1200 employees 373 employees are from Sales Department.\n",
    "###### Out of 373 employess 87 (23%) employees has the performance rate is 2 and 251 (67%) employees with rate 3 and the remaining 35 (10%) has the performance rating 4.\n",
    "###### From the above statistics we get to know that More number of employees (67%) from Sales Department Department has the performance rating 3.\n",
    "\n",
    "\n",
    "######  Human Resources Department :\n",
    "###### Out of 1200 employees 54 employees are from  Human Resources Department.\n",
    "###### Out of 54 employess 10 (19%) employees has the performance rate is 2 and 38 (70%) employees with rate 3 and the remaining 6 (11%) has the performance rating 4.\n",
    "###### From the above statistics we get to know that More number of employees (38%) from Human Resources Department has the performance rating 3.\n",
    "\n",
    "\n",
    "######  Development Department :\n",
    "###### Out of 1200 employees 361 employees are from  Human  Development Department.\n",
    "###### Out of 361 employess 13 (3.6%) employees has the performance rate is 2 and 304 (84%) employees with rate 3 and the remaining 44 (12.4%) has the performance rating 4.\n",
    "###### From the above statistics we get to know that More number of employees (84%) from  Development Department has the performance rating 3.\n",
    "\n",
    "\n",
    "######  Data Science Department :\n",
    "###### Out of 1200 employees 20 employees are from  Human Data ScienceDepartment.\n",
    "###### Out of 20 employess 1 (5%) employees has the performance rate is 2 and 17 (85%) employees with rate 3 and the remaining 2 (10%) has the performance rating 4.\n",
    "###### From the above statistics we get to know that More number of employees (85%) from  Data Science Department has the performance rating 3.\n",
    "\n",
    "\n",
    "######  Research and Development Department :\n",
    "###### Out of 1200 employees 343 employees are from  Research and Development Department.\n",
    "###### Out of 343 employess 68 (20%) employees has the performance rate is 2 and 234 (69%) employees with rate 3 and the remaining 41 (11%) has the performance rating 4.\n",
    "###### From the above statistics we get to know that More number of employees (69%) from  Research and Development Department has the performance rating 3.\n",
    "\n",
    "\n",
    "######  Finance Department :\n",
    "###### Out of 1200 employees 49 employees are from  Finance Department.\n",
    "###### Out of 343 employess 15 (30.5%) employees has the performance rate is 2 and 30 (61%) employees with rate 3 and the remaining 4 (8.5%) has the performance rating 4.\n",
    "###### From the above statistics we get to know that More number of employees (61%) from  Finance Department has the performance rating 3.\n",
    "\n",
    "\n",
    "###### Sales department has the highest number of employees than any other department i e., 373 employees.\n",
    "###### Data Science Department has the lowest number of employees than any other department i e., 20 employees.\n",
    "###### Performance Ranking of 1200 employess 874 (73%) employees has the performamce rating 3, follwed by 194 (16%) of emploees has performance rating 2 and 132 (11%) of emploees has performance rating 4."
   ]
  },
  {
   "cell_type": "markdown",
   "metadata": {},
   "source": [
    "## 2.   EmpLastSalaryHikePercent, ExperienceYearsAtThisCompany, ExperienceYearsInCurrentRole has the highest impact on the target varibale PerformanceRating.                                                                                                                   ## ## 2.   EmpLastSalaryHikePercent, ExperienceYearsAtThisCompany, ExperienceYearsInCurrentRole has the highest impact on the target varibale PerformanceRating.                                                                                                                   "
   ]
  },
  {
   "cell_type": "markdown",
   "metadata": {},
   "source": [
    "## 3.  The model name is Employee_performance_Analysis"
   ]
  },
  {
   "cell_type": "markdown",
   "metadata": {},
   "source": [
    "## 4. From we we came to the the conclusion to improve the employee performance i.)Need to increase employees salary properly in a certain period of time. ii) Try to keep employees stay for a long period in the company. iii) try to increase the EmployeeJobInvolvement by encouraging the employee."
   ]
  },
  {
   "cell_type": "code",
   "execution_count": null,
   "metadata": {},
   "outputs": [],
   "source": []
  }
 ],
 "metadata": {
  "kernelspec": {
   "display_name": "Python 3",
   "language": "python",
   "name": "python3"
  },
  "language_info": {
   "codemirror_mode": {
    "name": "ipython",
    "version": 3
   },
   "file_extension": ".py",
   "mimetype": "text/x-python",
   "name": "python",
   "nbconvert_exporter": "python",
   "pygments_lexer": "ipython3",
   "version": "3.7.6"
  }
 },
 "nbformat": 4,
 "nbformat_minor": 4
}
